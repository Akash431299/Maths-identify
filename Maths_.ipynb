{
  "nbformat": 4,
  "nbformat_minor": 0,
  "metadata": {
    "colab": {
      "provenance": [],
      "name": "Maths .ipynb",
      "authorship_tag": "ABX9TyOISx3ZfMcm8jGNlAlh85x/",
      "include_colab_link": true
    },
    "kernelspec": {
      "name": "python3",
      "display_name": "Python 3"
    },
    "language_info": {
      "name": "python"
    }
  },
  "cells": [
    {
      "cell_type": "markdown",
      "metadata": {
        "id": "view-in-github",
        "colab_type": "text"
      },
      "source": [
        "<a href=\"https://colab.research.google.com/github/Akash431299/Maths-identify/blob/main/Maths_.ipynb\" target=\"_parent\"><img src=\"https://colab.research.google.com/assets/colab-badge.svg\" alt=\"Open In Colab\"/></a>"
      ]
    },
    {
      "cell_type": "code",
      "source": [
        "a=0\n",
        "for i in range(5):\n",
        " a=i\n",
        " print (a)"
      ],
      "metadata": {
        "colab": {
          "base_uri": "https://localhost:8080/"
        },
        "id": "qf2p-xSbKbRF",
        "outputId": "4c211993-5ad2-49ee-8f8d-27d29d67709d"
      },
      "execution_count": null,
      "outputs": [
        {
          "output_type": "stream",
          "name": "stdout",
          "text": [
            "0\n",
            "1\n",
            "2\n",
            "3\n",
            "4\n"
          ]
        }
      ]
    },
    {
      "cell_type": "code",
      "source": [
        "\n",
        "i=0\n",
        "while i<10:\n",
        "    if(i%2==0):\n",
        "       print(i)\n",
        "    i+=1"
      ],
      "metadata": {
        "colab": {
          "base_uri": "https://localhost:8080/"
        },
        "id": "eY-v5_BuM4eo",
        "outputId": "3e4d199d-8a7d-4888-e121-6244ddc0f38a"
      },
      "execution_count": null,
      "outputs": [
        {
          "output_type": "stream",
          "name": "stdout",
          "text": [
            "0\n",
            "2\n",
            "4\n",
            "6\n",
            "8\n"
          ]
        }
      ]
    },
    {
      "cell_type": "code",
      "source": [
        "\n",
        "# Create two arrays# Create two arrays\n",
        "arr1 = np.array([1, 2, 3, 4])\n",
        "arr2 = np.array([5, 6, 7, 8])\n",
        "\n",
        "# Add arrays (element-wise)\n",
        "result = arr1 + arr2\n",
        "print(result)  # [6 8 10 12]\n",
        "\n",
        "# Calculate statistics\n",
        "print(\"Mean:\", np.mean(arr1))\n",
        "print(\"Sum:\", np.sum(arr1))\n",
        "print(\"Max:\", np.max(arr1))\n",
        "\n",
        "\n",
        "arr1 = np.array([1, 2, 3, 4])\n",
        "arr2 = np.array([5, 6, 7, 8])\n",
        "\n",
        "# Add arrays (element-wise)\n",
        "result = arr1 + arr2\n",
        "print(result)  # [6 8 10 12]\n",
        "\n",
        "# Calculate statistics\n",
        "print(\"Mean:\", np.mean(arr1))\n",
        "print(\"Sum:\", np.sum(arr1))\n",
        "print(\"Max:\", np.max(arr1))\n",
        "\n",
        "# Create two arrays\n",
        "arr1 = np.array([1, 2, 3, 4])\n",
        "arr2 = np.array([5, 6, 7, 8])\n",
        "\n",
        "# Add arrays (element-wise)\n",
        "result = arr1 + arr2\n",
        "print(result)  # [6 8 10 12]\n",
        "\n",
        "# Calculate statistics\n",
        "print(\"Mean:\", np.mean(arr1))\n",
        "print(\"Sum:\", np.sum(arr1))\n",
        "print(\"Max:\", np.max(arr1))"
      ],
      "metadata": {
        "colab": {
          "base_uri": "https://localhost:8080/",
          "height": 384
        },
        "id": "02MAQibKxv63",
        "outputId": "a1f9b9f0-c260-45c6-9a6d-e7df2f9b62e3"
      },
      "execution_count": 17,
      "outputs": [
        {
          "output_type": "error",
          "ename": "NameError",
          "evalue": "name 'np' is not defined",
          "traceback": [
            "\u001b[0;31m---------------------------------------------------------------------------\u001b[0m",
            "\u001b[0;31mNameError\u001b[0m                                 Traceback (most recent call last)",
            "\u001b[0;32m<ipython-input-17-a733cbcb8e19>\u001b[0m in \u001b[0;36m<cell line: 0>\u001b[0;34m()\u001b[0m\n\u001b[1;32m      1\u001b[0m \u001b[0;31m# Create two arrays# Create two arrays\u001b[0m\u001b[0;34m\u001b[0m\u001b[0;34m\u001b[0m\u001b[0m\n\u001b[0;32m----> 2\u001b[0;31m \u001b[0marr1\u001b[0m \u001b[0;34m=\u001b[0m \u001b[0mnp\u001b[0m\u001b[0;34m.\u001b[0m\u001b[0marray\u001b[0m\u001b[0;34m(\u001b[0m\u001b[0;34m[\u001b[0m\u001b[0;36m1\u001b[0m\u001b[0;34m,\u001b[0m \u001b[0;36m2\u001b[0m\u001b[0;34m,\u001b[0m \u001b[0;36m3\u001b[0m\u001b[0;34m,\u001b[0m \u001b[0;36m4\u001b[0m\u001b[0;34m]\u001b[0m\u001b[0;34m)\u001b[0m\u001b[0;34m\u001b[0m\u001b[0;34m\u001b[0m\u001b[0m\n\u001b[0m\u001b[1;32m      3\u001b[0m \u001b[0marr2\u001b[0m \u001b[0;34m=\u001b[0m \u001b[0mnp\u001b[0m\u001b[0;34m.\u001b[0m\u001b[0marray\u001b[0m\u001b[0;34m(\u001b[0m\u001b[0;34m[\u001b[0m\u001b[0;36m5\u001b[0m\u001b[0;34m,\u001b[0m \u001b[0;36m6\u001b[0m\u001b[0;34m,\u001b[0m \u001b[0;36m7\u001b[0m\u001b[0;34m,\u001b[0m \u001b[0;36m8\u001b[0m\u001b[0;34m]\u001b[0m\u001b[0;34m)\u001b[0m\u001b[0;34m\u001b[0m\u001b[0;34m\u001b[0m\u001b[0m\n\u001b[1;32m      4\u001b[0m \u001b[0;34m\u001b[0m\u001b[0m\n\u001b[1;32m      5\u001b[0m \u001b[0;31m# Add arrays (element-wise)\u001b[0m\u001b[0;34m\u001b[0m\u001b[0;34m\u001b[0m\u001b[0m\n",
            "\u001b[0;31mNameError\u001b[0m: name 'np' is not defined"
          ]
        }
      ]
    },
    {
      "cell_type": "markdown",
      "source": [],
      "metadata": {
        "id": "cf3OrwzMx8oM"
      }
    },
    {
      "cell_type": "code",
      "source": [
        "\n",
        "# Create two arrays# Create two arrays\n",
        "arr1 = np.array([1, 2, 3, 4])\n",
        "arr2 = np.array([5, 6, 7, 8])\n",
        "\n",
        "# Add arrays (element-wise)\n",
        "result = arr1 + arr2\n",
        "print(result)  # [6 8 10 12]\n",
        "\n",
        "# Calculate statistics\n",
        "print(\"Mean:\", np.mean(arr1))\n",
        "print(\"Sum:\", np.sum(arr1))\n",
        "print(\"Max:\", np.max(arr1))\n",
        "\n",
        "\n",
        "arr1 = np.array([1, 2, 3, 4])\n",
        "arr2 = np.array([5, 6, 7, 8])\n",
        "\n",
        "# Add arrays (element-wise)\n",
        "result = arr1 + arr2\n",
        "print(result)  # [6 8 10 12]\n",
        "\n",
        "# Calculate statistics\n",
        "print(\"Mean:\", np.mean(arr1))\n",
        "print(\"Sum:\", np.sum(arr1))\n",
        "print(\"Max:\", np.max(arr1))\n",
        "\n",
        "# Create two arrays\n",
        "arr1 = np.array([1, 2, 3, 4])\n",
        "arr2 = np.array([5, 6, 7, 8])\n",
        "\n",
        "# Add arrays (element-wise)\n",
        "result = arr1 + arr2\n",
        "print(result)  # [6 8 10 12]\n",
        "\n",
        "# Calculate statistics\n",
        "print(\"Mean:\", np.mean(arr1))\n",
        "print(\"Sum:\", np.sum(arr1))\n",
        "print(\"Max:\", np.max(arr1))"
      ],
      "metadata": {
        "id": "F_p7efRmx8xk"
      },
      "execution_count": null,
      "outputs": []
    },
    {
      "cell_type": "code",
      "source": [
        "pip install numpy"
      ],
      "metadata": {
        "colab": {
          "base_uri": "https://localhost:8080/"
        },
        "id": "-H8jX2iMy49s",
        "outputId": "83bca082-98bd-4770-cfff-bae7719869d5"
      },
      "execution_count": 19,
      "outputs": [
        {
          "output_type": "stream",
          "name": "stdout",
          "text": [
            "Requirement already satisfied: numpy in /usr/local/lib/python3.11/dist-packages (2.0.2)\n"
          ]
        }
      ]
    },
    {
      "cell_type": "code",
      "source": [
        "import numpy as np"
      ],
      "metadata": {
        "id": "vocjMpSKzE-M"
      },
      "execution_count": 20,
      "outputs": []
    },
    {
      "cell_type": "code",
      "source": [
        "\n",
        "# Create two arrays# Create two arrays\n",
        "arr1 = np.array([1, 2, 3, 4])\n",
        "arr2 = np.array([5, 6, 7, 8])\n",
        "\n",
        "# Add arrays (element-wise)\n",
        "result = arr1 + arr2\n",
        "print(result)  # [6 8 10 12]\n",
        "\n",
        "# Calculate statistics\n",
        "print(\"Mean:\", np.mean(arr1))\n",
        "print(\"Sum:\", np.sum(arr1))\n",
        "print(\"Max:\", np.max(arr1))\n",
        "\n",
        "\n",
        "arr1 = np.array([1, 2, 3, 4])\n",
        "arr2 = np.array([5, 6, 7, 8])\n",
        "\n",
        "# Add arrays (element-wise)\n",
        "result = arr1 + arr2\n",
        "print(result)  # [6 8 10 12]\n",
        "\n",
        "# Calculate statistics\n",
        "print(\"Mean:\", np.mean(arr1))\n",
        "print(\"Sum:\", np.sum(arr1))\n",
        "print(\"Max:\", np.max(arr1))\n",
        "\n",
        "# Create two arrays\n",
        "arr1 = np.array([1, 2, 3, 4])\n",
        "arr2 = np.array([5, 6, 7, 8])\n",
        "\n",
        "# Add arrays (element-wise)\n",
        "result = arr1 + arr2\n",
        "print(result)  # [6 8 10 12]\n",
        "\n",
        "# Calculate statistics\n",
        "print(\"Mean:\", np.mean(arr1))\n",
        "print(\"Sum:\", np.sum(arr1))\n",
        "print(\"Max:\", np.max(arr1))"
      ],
      "metadata": {
        "colab": {
          "base_uri": "https://localhost:8080/"
        },
        "id": "eQxSuf2OzL_n",
        "outputId": "9936399c-ff01-4565-e2d5-1ab3f8cf6b7b"
      },
      "execution_count": 21,
      "outputs": [
        {
          "output_type": "stream",
          "name": "stdout",
          "text": [
            "[ 6  8 10 12]\n",
            "Mean: 2.5\n",
            "Sum: 10\n",
            "Max: 4\n",
            "[ 6  8 10 12]\n",
            "Mean: 2.5\n",
            "Sum: 10\n",
            "Max: 4\n",
            "[ 6  8 10 12]\n",
            "Mean: 2.5\n",
            "Sum: 10\n",
            "Max: 4\n"
          ]
        }
      ]
    },
    {
      "cell_type": "code",
      "source": [],
      "metadata": {
        "id": "QzaOAd1vMx8S"
      },
      "execution_count": null,
      "outputs": []
    }
  ]
}